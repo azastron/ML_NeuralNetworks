{
  "nbformat": 4,
  "nbformat_minor": 0,
  "metadata": {
    "colab": {
      "name": "HW5_Task3.ipynb",
      "provenance": [],
      "authorship_tag": "ABX9TyNOQEsZUJyZmQPRXVFcPG2a",
      "include_colab_link": true
    },
    "kernelspec": {
      "name": "python3",
      "display_name": "Python 3"
    }
  },
  "cells": [
    {
      "cell_type": "markdown",
      "metadata": {
        "id": "view-in-github",
        "colab_type": "text"
      },
      "source": [
        "<a href=\"https://colab.research.google.com/github/azastron/ML_NeuralNetworks/blob/main/HW5_Task3.ipynb\" target=\"_parent\"><img src=\"https://colab.research.google.com/assets/colab-badge.svg\" alt=\"Open In Colab\"/></a>"
      ]
    },
    {
      "cell_type": "markdown",
      "metadata": {
        "id": "HOTpm-dJ8afE"
      },
      "source": [
        "## Classify Cells\n",
        "\n",
        "This is the third task of Homework 5 of Andreas Muller course on Applied Machine Learning offered at Columbia during the Spring 2020 semester.\n",
        "\n",
        "Train a convolutional neural network on the following dataset:\n",
        "https://lhncbc.nlm.nih.gov/publication/pub9932\n",
        "\n",
        "The goal is to classify cells infected with malaria against those that are not.\n",
        "\n",
        "3.1 Start with a convolutional model without residual connections (using batch normalization is likely to be helpful and you should try it, whether you use dropout is your choice).\n",
        "\n",
        "3.2 Augment the data using rotations, mirroring and possibly other transformations. How much\n",
        "can you improve your original model by data augmentation?\n",
        "\n",
        "3.3 Build a deeper model using residual connections. Show that you can build a deep model\n",
        "that would not be able to learn if you remove the residual connections (i.e. compare a deep\n",
        "model with and without residual connections while the rest of the architecture is constant).\n",
        "Feel free to reuse existing architectures from the literature or use them as inspiration for your\n",
        "own. You can find commonly used architectures here:\n",
        "https://keras.io/applications/\n",
        "However, the point of the exercise is to learn the weights from scratch, so please do not reuse\n",
        "the weights shipped with these applications.\n",
        "\n",
        "3.4 BONUS / Optional: Transfer learning\n",
        "Reuse an existing architecture and pre-trained weights from from keras\n",
        "( https://keras.io/applications/ ). Compare retraining only the densely connected layers with\n",
        "fine-tuning the whole network.\n",
        "\n",
        "Hint : Make sure you are doing the reshape for the training set correctly. A direct reshape might\n",
        "give you garbled images. Display an image after reshaping to make sure they are correct."
      ]
    },
    {
      "cell_type": "code",
      "metadata": {
        "id": "E5dAHKZR8V77"
      },
      "source": [
        "import matplotlib.pyplot as plt\n",
        "import numpy as np\n",
        "import pandas as pd\n",
        "import tensorflow as tf\n",
        "from keras.models import Sequential\n",
        "from keras.layers import Dense, Activation, Flatten, Dropout, BatchNormalization\n",
        "from keras.datasets import fashion_mnist"
      ],
      "execution_count": null,
      "outputs": []
    },
    {
      "cell_type": "code",
      "metadata": {
        "id": "TXWePZdY8jcn"
      },
      "source": [
        ""
      ],
      "execution_count": null,
      "outputs": []
    }
  ]
}